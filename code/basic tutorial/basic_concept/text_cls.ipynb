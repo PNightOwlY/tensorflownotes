{
 "cells": [
  {
   "cell_type": "code",
   "execution_count": 2,
   "metadata": {},
   "outputs": [
    {
     "name": "stdout",
     "output_type": "stream",
     "text": [
      "2.7.0\n"
     ]
    }
   ],
   "source": [
    "import tensorflow as tf\n",
    "from tensorflow import keras\n",
    "\n",
    "import numpy as np\n",
    "print(tf.__version__)"
   ]
  },
  {
   "cell_type": "markdown",
   "metadata": {},
   "source": [
    "# Download IMDB dataset\n"
   ]
  },
  {
   "cell_type": "code",
   "execution_count": 9,
   "metadata": {},
   "outputs": [
    {
     "name": "stdout",
     "output_type": "stream",
     "text": [
      "Downloading data from https://storage.googleapis.com/tensorflow/tf-keras-datasets/imdb.npz\n",
      "17465344/17464789 [==============================] - 1s 0us/step\n",
      "17473536/17464789 [==============================] - 1s 0us/step\n"
     ]
    }
   ],
   "source": [
    "imdb = keras.datasets.imdb\n",
    "import ssl\n",
    "ssl._create_default_https_context = ssl._create_unverified_context\n",
    "\n",
    "(train_data, train_labels), (test_data, test_labels) = imdb.load_data(num_words=10000)"
   ]
  },
  {
   "cell_type": "code",
   "execution_count": 10,
   "metadata": {},
   "outputs": [
    {
     "name": "stdout",
     "output_type": "stream",
     "text": [
      "Training entries: 25000, labels: 25000\n"
     ]
    }
   ],
   "source": [
    "print(\"Training entries: {}, labels: {}\".format(len(train_data), len(train_labels)))\n"
   ]
  },
  {
   "cell_type": "code",
   "execution_count": 11,
   "metadata": {},
   "outputs": [
    {
     "name": "stdout",
     "output_type": "stream",
     "text": [
      "[1, 14, 22, 16, 43, 530, 973, 1622, 1385, 65, 458, 4468, 66, 3941, 4, 173, 36, 256, 5, 25, 100, 43, 838, 112, 50, 670, 2, 9, 35, 480, 284, 5, 150, 4, 172, 112, 167, 2, 336, 385, 39, 4, 172, 4536, 1111, 17, 546, 38, 13, 447, 4, 192, 50, 16, 6, 147, 2025, 19, 14, 22, 4, 1920, 4613, 469, 4, 22, 71, 87, 12, 16, 43, 530, 38, 76, 15, 13, 1247, 4, 22, 17, 515, 17, 12, 16, 626, 18, 2, 5, 62, 386, 12, 8, 316, 8, 106, 5, 4, 2223, 5244, 16, 480, 66, 3785, 33, 4, 130, 12, 16, 38, 619, 5, 25, 124, 51, 36, 135, 48, 25, 1415, 33, 6, 22, 12, 215, 28, 77, 52, 5, 14, 407, 16, 82, 2, 8, 4, 107, 117, 5952, 15, 256, 4, 2, 7, 3766, 5, 723, 36, 71, 43, 530, 476, 26, 400, 317, 46, 7, 4, 2, 1029, 13, 104, 88, 4, 381, 15, 297, 98, 32, 2071, 56, 26, 141, 6, 194, 7486, 18, 4, 226, 22, 21, 134, 476, 26, 480, 5, 144, 30, 5535, 18, 51, 36, 28, 224, 92, 25, 104, 4, 226, 65, 16, 38, 1334, 88, 12, 16, 283, 5, 16, 4472, 113, 103, 32, 15, 16, 5345, 19, 178, 32]\n"
     ]
    }
   ],
   "source": [
    "print(train_data[0])"
   ]
  },
  {
   "cell_type": "code",
   "execution_count": 12,
   "metadata": {},
   "outputs": [
    {
     "name": "stdout",
     "output_type": "stream",
     "text": [
      "Downloading data from https://storage.googleapis.com/tensorflow/tf-keras-datasets/imdb_word_index.json\n",
      "1646592/1641221 [==============================] - 0s 0us/step\n",
      "1654784/1641221 [==============================] - 0s 0us/step\n"
     ]
    }
   ],
   "source": [
    "# 一个映射单词到整数索引的词典\n",
    "word_index = imdb.get_word_index()\n",
    "\n",
    "# 保留第一个索引\n",
    "word_index = {k:(v+3) for k,v in word_index.items()}\n",
    "word_index[\"<PAD>\"] = 0\n",
    "word_index[\"<START>\"] = 1\n",
    "word_index[\"<UNK>\"] = 2  # unknown\n",
    "word_index[\"<UNUSED>\"] = 3\n",
    "\n",
    "reverse_word_index = dict([(value, key) for (key, value) in word_index.items()])\n",
    "\n",
    "def decode_review(text):\n",
    "    return ' '.join([reverse_word_index.get(i, '?') for i in text])"
   ]
  },
  {
   "cell_type": "code",
   "execution_count": 13,
   "metadata": {},
   "outputs": [
    {
     "data": {
      "text/plain": [
       "\"<START> this film was just brilliant casting location scenery story direction everyone's really suited the part they played and you could just imagine being there robert <UNK> is an amazing actor and now the same being director <UNK> father came from the same scottish island as myself so i loved the fact there was a real connection with this film the witty remarks throughout the film were great it was just brilliant so much that i bought the film as soon as it was released for <UNK> and would recommend it to everyone to watch and the fly fishing was amazing really cried at the end it was so sad and you know what they say if you cry at a film it must have been good and this definitely was also <UNK> to the two little boy's that played the <UNK> of norman and paul they were just brilliant children are often left out of the <UNK> list i think because the stars that play them all grown up are such a big profile for the whole film but these children are amazing and should be praised for what they have done don't you think the whole story was so lovely because it was true and was someone's life after all that was shared with us all\""
      ]
     },
     "execution_count": 13,
     "metadata": {},
     "output_type": "execute_result"
    }
   ],
   "source": [
    "decode_review(train_data[0])"
   ]
  },
  {
   "cell_type": "code",
   "execution_count": 14,
   "metadata": {},
   "outputs": [],
   "source": [
    "# every sentence has different length, what we can do is padding\n",
    "train_data = keras.preprocessing.sequence.pad_sequences(\n",
    "    train_data,\n",
    "    value=word_index[\"<PAD>\"],\n",
    "    padding='post',\n",
    "    maxlen=256)\n",
    "test_data = keras.preprocessing.sequence.pad_sequences(\n",
    "    test_data,\n",
    "    value=word_index[\"<PAD>\"],\n",
    "    padding='post',\n",
    "    maxlen=256)\n",
    "    "
   ]
  },
  {
   "cell_type": "code",
   "execution_count": 15,
   "metadata": {},
   "outputs": [
    {
     "data": {
      "text/plain": [
       "(256, 256)"
      ]
     },
     "execution_count": 15,
     "metadata": {},
     "output_type": "execute_result"
    }
   ],
   "source": [
    "len(train_data[0]), len(train_data[1])\n"
   ]
  },
  {
   "cell_type": "code",
   "execution_count": 16,
   "metadata": {},
   "outputs": [
    {
     "name": "stdout",
     "output_type": "stream",
     "text": [
      "[   1   14   22   16   43  530  973 1622 1385   65  458 4468   66 3941\n",
      "    4  173   36  256    5   25  100   43  838  112   50  670    2    9\n",
      "   35  480  284    5  150    4  172  112  167    2  336  385   39    4\n",
      "  172 4536 1111   17  546   38   13  447    4  192   50   16    6  147\n",
      " 2025   19   14   22    4 1920 4613  469    4   22   71   87   12   16\n",
      "   43  530   38   76   15   13 1247    4   22   17  515   17   12   16\n",
      "  626   18    2    5   62  386   12    8  316    8  106    5    4 2223\n",
      " 5244   16  480   66 3785   33    4  130   12   16   38  619    5   25\n",
      "  124   51   36  135   48   25 1415   33    6   22   12  215   28   77\n",
      "   52    5   14  407   16   82    2    8    4  107  117 5952   15  256\n",
      "    4    2    7 3766    5  723   36   71   43  530  476   26  400  317\n",
      "   46    7    4    2 1029   13  104   88    4  381   15  297   98   32\n",
      " 2071   56   26  141    6  194 7486   18    4  226   22   21  134  476\n",
      "   26  480    5  144   30 5535   18   51   36   28  224   92   25  104\n",
      "    4  226   65   16   38 1334   88   12   16  283    5   16 4472  113\n",
      "  103   32   15   16 5345   19  178   32    0    0    0    0    0    0\n",
      "    0    0    0    0    0    0    0    0    0    0    0    0    0    0\n",
      "    0    0    0    0    0    0    0    0    0    0    0    0    0    0\n",
      "    0    0    0    0]\n"
     ]
    }
   ],
   "source": [
    "print(train_data[0])\n"
   ]
  },
  {
   "cell_type": "code",
   "execution_count": 17,
   "metadata": {},
   "outputs": [
    {
     "name": "stdout",
     "output_type": "stream",
     "text": [
      "Model: \"sequential\"\n",
      "_________________________________________________________________\n",
      " Layer (type)                Output Shape              Param #   \n",
      "=================================================================\n",
      " embedding (Embedding)       (None, None, 16)          160000    \n",
      "                                                                 \n",
      " global_average_pooling1d (G  (None, 16)               0         \n",
      " lobalAveragePooling1D)                                          \n",
      "                                                                 \n",
      " dense (Dense)               (None, 16)                272       \n",
      "                                                                 \n",
      " dense_1 (Dense)             (None, 1)                 17        \n",
      "                                                                 \n",
      "=================================================================\n",
      "Total params: 160,289\n",
      "Trainable params: 160,289\n",
      "Non-trainable params: 0\n",
      "_________________________________________________________________\n"
     ]
    }
   ],
   "source": [
    "# 输入形状是用于电影评论的词汇数目（10,000 词）\n",
    "vocab_size = 10000\n",
    "\n",
    "model = keras.Sequential()\n",
    "model.add(keras.layers.Embedding(vocab_size, 16))\n",
    "model.add(keras.layers.GlobalAveragePooling1D())\n",
    "model.add(keras.layers.Dense(16, activation='relu'))\n",
    "model.add(keras.layers.Dense(1, activation='sigmoid'))\n",
    "\n",
    "model.summary()"
   ]
  },
  {
   "cell_type": "code",
   "execution_count": 18,
   "metadata": {},
   "outputs": [],
   "source": [
    "model.compile(optimizer='adam',\n",
    "              loss='binary_crossentropy',\n",
    "              metrics=['accuracy'])"
   ]
  },
  {
   "cell_type": "code",
   "execution_count": 19,
   "metadata": {},
   "outputs": [],
   "source": [
    "x_val = train_data[:10000]\n",
    "partial_x_train = train_data[10000:]\n",
    "\n",
    "y_val = train_labels[:10000]\n",
    "partial_y_train = train_labels[10000:]"
   ]
  },
  {
   "cell_type": "code",
   "execution_count": 20,
   "metadata": {},
   "outputs": [
    {
     "name": "stdout",
     "output_type": "stream",
     "text": [
      "Epoch 1/40\n",
      "30/30 [==============================] - 1s 14ms/step - loss: 0.6920 - accuracy: 0.5459 - val_loss: 0.6901 - val_accuracy: 0.6492\n",
      "Epoch 2/40\n",
      "30/30 [==============================] - 0s 9ms/step - loss: 0.6868 - accuracy: 0.7088 - val_loss: 0.6833 - val_accuracy: 0.7374\n",
      "Epoch 3/40\n",
      "30/30 [==============================] - 0s 9ms/step - loss: 0.6766 - accuracy: 0.7467 - val_loss: 0.6702 - val_accuracy: 0.7483\n",
      "Epoch 4/40\n",
      "30/30 [==============================] - 0s 10ms/step - loss: 0.6573 - accuracy: 0.7731 - val_loss: 0.6470 - val_accuracy: 0.7527\n",
      "Epoch 5/40\n",
      "30/30 [==============================] - 0s 10ms/step - loss: 0.6268 - accuracy: 0.7856 - val_loss: 0.6144 - val_accuracy: 0.7805\n",
      "Epoch 6/40\n",
      "30/30 [==============================] - 0s 10ms/step - loss: 0.5872 - accuracy: 0.8049 - val_loss: 0.5755 - val_accuracy: 0.7896\n",
      "Epoch 7/40\n",
      "30/30 [==============================] - 0s 11ms/step - loss: 0.5425 - accuracy: 0.8216 - val_loss: 0.5333 - val_accuracy: 0.8131\n",
      "Epoch 8/40\n",
      "30/30 [==============================] - 0s 9ms/step - loss: 0.4959 - accuracy: 0.8395 - val_loss: 0.4918 - val_accuracy: 0.8232\n",
      "Epoch 9/40\n",
      "30/30 [==============================] - 0s 9ms/step - loss: 0.4507 - accuracy: 0.8543 - val_loss: 0.4531 - val_accuracy: 0.8392\n",
      "Epoch 10/40\n",
      "30/30 [==============================] - 0s 11ms/step - loss: 0.4096 - accuracy: 0.8675 - val_loss: 0.4204 - val_accuracy: 0.8498\n",
      "Epoch 11/40\n",
      "30/30 [==============================] - 0s 10ms/step - loss: 0.3751 - accuracy: 0.8777 - val_loss: 0.3933 - val_accuracy: 0.8545\n",
      "Epoch 12/40\n",
      "30/30 [==============================] - 0s 9ms/step - loss: 0.3464 - accuracy: 0.8845 - val_loss: 0.3719 - val_accuracy: 0.8597\n",
      "Epoch 13/40\n",
      "30/30 [==============================] - 0s 11ms/step - loss: 0.3218 - accuracy: 0.8919 - val_loss: 0.3548 - val_accuracy: 0.8658\n",
      "Epoch 14/40\n",
      "30/30 [==============================] - 0s 10ms/step - loss: 0.3008 - accuracy: 0.8979 - val_loss: 0.3408 - val_accuracy: 0.8709\n",
      "Epoch 15/40\n",
      "30/30 [==============================] - 0s 11ms/step - loss: 0.2830 - accuracy: 0.9039 - val_loss: 0.3296 - val_accuracy: 0.8735\n",
      "Epoch 16/40\n",
      "30/30 [==============================] - 0s 10ms/step - loss: 0.2672 - accuracy: 0.9087 - val_loss: 0.3213 - val_accuracy: 0.8753\n",
      "Epoch 17/40\n",
      "30/30 [==============================] - 0s 12ms/step - loss: 0.2533 - accuracy: 0.9127 - val_loss: 0.3134 - val_accuracy: 0.8779\n",
      "Epoch 18/40\n",
      "30/30 [==============================] - 0s 12ms/step - loss: 0.2403 - accuracy: 0.9175 - val_loss: 0.3068 - val_accuracy: 0.8806\n",
      "Epoch 19/40\n",
      "30/30 [==============================] - 0s 11ms/step - loss: 0.2288 - accuracy: 0.9206 - val_loss: 0.3022 - val_accuracy: 0.8807\n",
      "Epoch 20/40\n",
      "30/30 [==============================] - 0s 9ms/step - loss: 0.2179 - accuracy: 0.9249 - val_loss: 0.2972 - val_accuracy: 0.8831\n",
      "Epoch 21/40\n",
      "30/30 [==============================] - 0s 11ms/step - loss: 0.2087 - accuracy: 0.9287 - val_loss: 0.2946 - val_accuracy: 0.8836\n",
      "Epoch 22/40\n",
      "30/30 [==============================] - 0s 10ms/step - loss: 0.1991 - accuracy: 0.9327 - val_loss: 0.2910 - val_accuracy: 0.8842\n",
      "Epoch 23/40\n",
      "30/30 [==============================] - 0s 10ms/step - loss: 0.1907 - accuracy: 0.9362 - val_loss: 0.2906 - val_accuracy: 0.8823\n",
      "Epoch 24/40\n",
      "30/30 [==============================] - 0s 10ms/step - loss: 0.1832 - accuracy: 0.9387 - val_loss: 0.2875 - val_accuracy: 0.8839\n",
      "Epoch 25/40\n",
      "30/30 [==============================] - 0s 10ms/step - loss: 0.1753 - accuracy: 0.9431 - val_loss: 0.2867 - val_accuracy: 0.8846\n",
      "Epoch 26/40\n",
      "30/30 [==============================] - 0s 11ms/step - loss: 0.1683 - accuracy: 0.9461 - val_loss: 0.2855 - val_accuracy: 0.8851\n",
      "Epoch 27/40\n",
      "30/30 [==============================] - 0s 8ms/step - loss: 0.1619 - accuracy: 0.9495 - val_loss: 0.2853 - val_accuracy: 0.8861\n",
      "Epoch 28/40\n",
      "30/30 [==============================] - 0s 9ms/step - loss: 0.1556 - accuracy: 0.9509 - val_loss: 0.2860 - val_accuracy: 0.8857\n",
      "Epoch 29/40\n",
      "30/30 [==============================] - 0s 10ms/step - loss: 0.1490 - accuracy: 0.9543 - val_loss: 0.2861 - val_accuracy: 0.8853\n",
      "Epoch 30/40\n",
      "30/30 [==============================] - 0s 10ms/step - loss: 0.1438 - accuracy: 0.9567 - val_loss: 0.2873 - val_accuracy: 0.8860\n",
      "Epoch 31/40\n",
      "30/30 [==============================] - 0s 11ms/step - loss: 0.1384 - accuracy: 0.9583 - val_loss: 0.2874 - val_accuracy: 0.8860\n",
      "Epoch 32/40\n",
      "30/30 [==============================] - 0s 9ms/step - loss: 0.1328 - accuracy: 0.9609 - val_loss: 0.2892 - val_accuracy: 0.8863\n",
      "Epoch 33/40\n",
      "30/30 [==============================] - 0s 12ms/step - loss: 0.1282 - accuracy: 0.9623 - val_loss: 0.2899 - val_accuracy: 0.8873\n",
      "Epoch 34/40\n",
      "30/30 [==============================] - 0s 11ms/step - loss: 0.1230 - accuracy: 0.9653 - val_loss: 0.2913 - val_accuracy: 0.8862\n",
      "Epoch 35/40\n",
      "30/30 [==============================] - 0s 9ms/step - loss: 0.1183 - accuracy: 0.9673 - val_loss: 0.2933 - val_accuracy: 0.8863\n",
      "Epoch 36/40\n",
      "30/30 [==============================] - 0s 9ms/step - loss: 0.1140 - accuracy: 0.9680 - val_loss: 0.2961 - val_accuracy: 0.8837\n",
      "Epoch 37/40\n",
      "30/30 [==============================] - 0s 9ms/step - loss: 0.1104 - accuracy: 0.9691 - val_loss: 0.2991 - val_accuracy: 0.8849\n",
      "Epoch 38/40\n",
      "30/30 [==============================] - 0s 9ms/step - loss: 0.1059 - accuracy: 0.9711 - val_loss: 0.3012 - val_accuracy: 0.8854\n",
      "Epoch 39/40\n",
      "30/30 [==============================] - 0s 9ms/step - loss: 0.1020 - accuracy: 0.9725 - val_loss: 0.3029 - val_accuracy: 0.8831\n",
      "Epoch 40/40\n",
      "30/30 [==============================] - 0s 12ms/step - loss: 0.0982 - accuracy: 0.9737 - val_loss: 0.3065 - val_accuracy: 0.8829\n"
     ]
    }
   ],
   "source": [
    "history = model.fit(partial_x_train,\n",
    "                    partial_y_train,\n",
    "                    epochs=40,\n",
    "                    batch_size=512,\n",
    "                    validation_data=(x_val, y_val),\n",
    "                    verbose=1)"
   ]
  },
  {
   "cell_type": "code",
   "execution_count": 21,
   "metadata": {},
   "outputs": [
    {
     "name": "stdout",
     "output_type": "stream",
     "text": [
      "782/782 - 1s - loss: 0.3262 - accuracy: 0.8725 - 654ms/epoch - 836us/step\n",
      "[0.3261623680591583, 0.8725200295448303]\n"
     ]
    }
   ],
   "source": [
    "results = model.evaluate(test_data,  test_labels, verbose=2)\n",
    "\n",
    "print(results)"
   ]
  },
  {
   "cell_type": "code",
   "execution_count": 22,
   "metadata": {},
   "outputs": [
    {
     "data": {
      "text/plain": [
       "dict_keys(['loss', 'accuracy', 'val_loss', 'val_accuracy'])"
      ]
     },
     "execution_count": 22,
     "metadata": {},
     "output_type": "execute_result"
    }
   ],
   "source": [
    "history_dict = history.history\n",
    "history_dict.keys()"
   ]
  },
  {
   "cell_type": "code",
   "execution_count": 23,
   "metadata": {},
   "outputs": [
    {
     "data": {
      "image/png": "[encoded data removed]",
      "text/plain": [
       "<Figure size 432x288 with 1 Axes>"
      ]
     },
     "metadata": {
      "needs_background": "light"
     },
     "output_type": "display_data"
    }
   ],
   "source": [
    "import matplotlib.pyplot as plt\n",
    "\n",
    "acc = history_dict['accuracy']\n",
    "val_acc = history_dict['val_accuracy']\n",
    "loss = history_dict['loss']\n",
    "val_loss = history_dict['val_loss']\n",
    "\n",
    "epochs = range(1, len(acc) + 1)\n",
    "\n",
    "# “bo”代表 \"蓝点\"\n",
    "plt.plot(epochs, loss, 'bo', label='Training loss')\n",
    "# b代表“蓝色实线”\n",
    "plt.plot(epochs, val_loss, 'b', label='Validation loss')\n",
    "plt.title('Training and validation loss')\n",
    "plt.xlabel('Epochs')\n",
    "plt.ylabel('Loss')\n",
    "plt.legend()\n",
    "\n",
    "plt.show()"
   ]
  },
  {
   "cell_type": "code",
   "execution_count": 24,
   "metadata": {},
   "outputs": [
    {
     "data": {
      "image/png": "[encoded data removed]",
      "text/plain": [
       "<Figure size 432x288 with 1 Axes>"
      ]
     },
     "metadata": {
      "needs_background": "light"
     },
     "output_type": "display_data"
    }
   ],
   "source": [
    "plt.clf()   # 清除数字\n",
    "\n",
    "plt.plot(epochs, acc, 'bo', label='Training acc')\n",
    "plt.plot(epochs, val_acc, 'b', label='Validation acc')\n",
    "plt.title('Training and validation accuracy')\n",
    "plt.xlabel('Epochs')\n",
    "plt.ylabel('Accuracy')\n",
    "plt.legend()\n",
    "\n",
    "plt.show()"
   ]
  },
  {
   "cell_type": "code",
   "execution_count": null,
   "metadata": {},
   "outputs": [],
   "source": []
  }
 ],
 "metadata": {
  "interpreter": {
   "hash": "e534e48711db4d1e1c48977d0d14ff85b1f16d41bcc4fdfd88268a329b3c9d66"
  },
  "kernelspec": {
   "display_name": "Python 3.7.4 64-bit",
   "language": "python",
   "name": "python3"
  },
  "language_info": {
   "codemirror_mode": {
    "name": "ipython",
    "version": 3
   },
   "file_extension": ".py",
   "mimetype": "text/x-python",
   "name": "python",
   "nbconvert_exporter": "python",
   "pygments_lexer": "ipython3",
   "version": "3.7.4"
  },
  "orig_nbformat": 4
 },
 "nbformat": 4,
 "nbformat_minor": 2
}
